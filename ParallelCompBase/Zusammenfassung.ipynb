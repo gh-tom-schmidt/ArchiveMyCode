{
 "cells": [
  {
   "cell_type": "markdown",
   "metadata": {},
   "source": [
    "# Tools and Functions"
   ]
  },
  {
   "cell_type": "code",
   "execution_count": 2,
   "metadata": {
    "vscode": {
     "languageId": "cpp"
    }
   },
   "outputs": [],
   "source": [
    "// IMPORTS\n",
    "\n",
    "#include <iostream> \n",
    "#include <random>\n",
    "#include <sstream>\n",
    "#include <string>\n",
    "#include <chrono>   "
   ]
  },
  {
   "cell_type": "code",
   "execution_count": 3,
   "metadata": {
    "vscode": {
     "languageId": "cpp"
    }
   },
   "outputs": [],
   "source": [
    "// VALUE PRINT\n",
    "\n",
    "template <typename T>\n",
    "void vprint(const T& x) {\n",
    "    std::cout << x << std::endl;\n",
    "}"
   ]
  },
  {
   "cell_type": "code",
   "execution_count": 4,
   "metadata": {
    "vscode": {
     "languageId": "cpp"
    }
   },
   "outputs": [],
   "source": [
    "// ARRAY PRINT\n",
    "\n",
    "template <typename T>\n",
    "void aprint(const T* array, size_t size) {\n",
    "    for (size_t i = 0; i < size; ++i) {\n",
    "        std::cout << array[i] << \" \";\n",
    "    }\n",
    "    std::cout << std::endl; \n",
    "}"
   ]
  },
  {
   "cell_type": "code",
   "execution_count": 5,
   "metadata": {
    "vscode": {
     "languageId": "cpp"
    }
   },
   "outputs": [],
   "source": [
    "// MATRIX PRINT (ONLY FOR INTEGER VALUES)\n",
    "\n",
    "void mprint(int** matrix, size_t rows, size_t cols) {\n",
    "    for (size_t i = 0; i < rows; ++i) {\n",
    "        for (size_t j = 0; j < cols; ++j) {\n",
    "            std::cout << matrix[i][j] << \" \";\n",
    "        }\n",
    "        std::cout << std::endl;\n",
    "    }\n",
    "    std::cout << std::endl;\n",
    "}"
   ]
  },
  {
   "cell_type": "code",
   "execution_count": 6,
   "metadata": {
    "vscode": {
     "languageId": "cpp"
    }
   },
   "outputs": [],
   "source": [
    "// RANDOM SETUP\n",
    "// from 1 to 9\n",
    "\n",
    "std::random_device rd; // Obtain a random number from hardware\n",
    "std::mt19937 gen(rd()); // Seed the generator\n",
    "std::uniform_int_distribution<> int_dis(1, 9);"
   ]
  },
  {
   "cell_type": "code",
   "execution_count": 7,
   "metadata": {
    "vscode": {
     "languageId": "cpp"
    }
   },
   "outputs": [],
   "source": [
    "// RANDOM GEN\n",
    "\n",
    "int randInt(){\n",
    "    return int_dis(gen);\n",
    "}"
   ]
  },
  {
   "cell_type": "code",
   "execution_count": 8,
   "metadata": {
    "vscode": {
     "languageId": "cpp"
    }
   },
   "outputs": [],
   "source": [
    "// TIME\n",
    "\n",
    "class Timer {\n",
    "public:\n",
    "    void start() {\n",
    "        startTimepoint = std::chrono::high_resolution_clock::now();\n",
    "    }\n",
    "\n",
    "    void end(const std::string& unit = \"milli\") {\n",
    "        auto endTimepoint = std::chrono::high_resolution_clock::now();\n",
    "\n",
    "        if (unit == \"micro\") {\n",
    "            auto duration = std::chrono::duration_cast<std::chrono::microseconds>(endTimepoint - startTimepoint);\n",
    "            std::cout << \"Time taken by function: \" << duration.count() << \" microseconds\" << std::endl;\n",
    "        } else if (unit == \"milli\") {\n",
    "            auto duration = std::chrono::duration_cast<std::chrono::milliseconds>(endTimepoint - startTimepoint);\n",
    "            std::cout << std::fixed << std::setprecision(3);\n",
    "            std::cout << \"Time taken by function: \" << duration.count() << \" milliseconds\" << std::endl;\n",
    "        } else if (unit == \"sec\") {\n",
    "            auto duration = std::chrono::duration<double>(endTimepoint - startTimepoint);\n",
    "            std::cout << std::fixed << std::setprecision(3);\n",
    "            std::cout << \"Time taken by function: \" << duration.count() << \" seconds\" << std::endl;\n",
    "        } else {\n",
    "            std::cout << \"Invalid time unit. Use 'micro', 'milli', or 'sec'.\" << std::endl;\n",
    "        }\n",
    "    }\n",
    "\n",
    "private:\n",
    "    std::chrono::time_point<std::chrono::high_resolution_clock> startTimepoint;\n",
    "};\n",
    "\n",
    "Timer timer;\n"
   ]
  },
  {
   "cell_type": "markdown",
   "metadata": {},
   "source": [
    "# Cache Basics"
   ]
  },
  {
   "cell_type": "markdown",
   "metadata": {},
   "source": [
    "Get some information about the CPU on the current system (in that case from the codespace)."
   ]
  },
  {
   "cell_type": "code",
   "execution_count": 9,
   "metadata": {
    "vscode": {
     "languageId": "cpp"
    }
   },
   "outputs": [
    {
     "name": "stdout",
     "output_type": "stream",
     "text": [
      "Architecture:                       x86_64\n",
      "CPU op-mode(s):                     32-bit, 64-bit\n",
      "Byte Order:                         Little Endian\n",
      "Address sizes:                      48 bits physical, 48 bits virtual\n",
      "CPU(s):                             2\n",
      "On-line CPU(s) list:                0,1\n",
      "Thread(s) per core:                 2\n",
      "Core(s) per socket:                 1\n",
      "Socket(s):                          1\n",
      "NUMA node(s):                       1\n",
      "Vendor ID:                          AuthenticAMD\n",
      "CPU family:                         25\n",
      "Model:                              1\n",
      "Model name:                         AMD EPYC 7763 64-Core Processor\n",
      "Stepping:                           1\n",
      "CPU MHz:                            3243.159\n",
      "BogoMIPS:                           4890.85\n",
      "Virtualization:                     AMD-V\n",
      "Hypervisor vendor:                  Microsoft\n",
      "Virtualization type:                full\n",
      "L1d cache:                          32 KiB\n",
      "L1i cache:                          32 KiB\n",
      "L2 cache:                           512 KiB\n",
      "L3 cache:                           32 MiB\n",
      "NUMA node0 CPU(s):                  0,1\n",
      "Vulnerability Gather data sampling: Not affected\n",
      "Vulnerability Itlb multihit:        Not affected\n",
      "Vulnerability L1tf:                 Not affected\n",
      "Vulnerability Mds:                  Not affected\n",
      "Vulnerability Meltdown:             Not affected\n",
      "Vulnerability Mmio stale data:      Not affected\n",
      "Vulnerability Retbleed:             Not affected\n",
      "Vulnerability Spec rstack overflow: Vulnerable: Safe RET, no microcode\n",
      "Vulnerability Spec store bypass:    Vulnerable\n",
      "Vulnerability Spectre v1:           Mitigation; usercopy/swapgs barriers and __user pointer sanitization\n",
      "Vulnerability Spectre v2:           Mitigation; Retpolines; STIBP disabled; RSB filling; PBRSB-eIBRS Not affected; BHI Not affected\n",
      "Vulnerability Srbds:                Not affected\n",
      "Vulnerability Tsx async abort:      Not affected\n",
      "Flags:                              fpu vme de pse tsc msr pae mce cx8 apic sep mtrr pge mca cmov pat pse36 clflush mmx fxsr sse sse2 ht syscall nx mmxext fxsr_opt pdpe1gb rdtscp lm constant_tsc rep_good nopl tsc_reliable nonstop_tsc cpuid extd_apicid aperfmperf pni pclmulqdq ssse3 fma cx16 pcid sse4_1 sse4_2 movbe popcnt aes xsave avx f16c rdrand hypervisor lahf_lm cmp_legacy svm cr8_legacy abm sse4a misalignsse 3dnowprefetch osvw topoext invpcid_single vmmcall fsgsbase bmi1 avx2 smep bmi2 erms invpcid rdseed adx smap clflushopt clwb sha_ni xsaveopt xsavec xgetbv1 xsaves clzero xsaveerptr rdpru arat npt nrip_save tsc_scale vmcb_clean flushbyasid decodeassists pausefilter pfthreshold v_vmsave_vmload umip vaes vpclmulqdq rdpid fsrm\n"
     ]
    }
   ],
   "source": [
    "! lscpu"
   ]
  },
  {
   "cell_type": "markdown",
   "metadata": {},
   "source": [
    "Lets look at the cache by its own."
   ]
  },
  {
   "cell_type": "code",
   "execution_count": 10,
   "metadata": {
    "vscode": {
     "languageId": "cpp"
    }
   },
   "outputs": [
    {
     "name": "stdout",
     "output_type": "stream",
     "text": [
      "L1d cache:                          32 KiB\n",
      "L1i cache:                          32 KiB\n",
      "L2 cache:                           512 KiB\n",
      "L3 cache:                           32 MiB\n"
     ]
    }
   ],
   "source": [
    "! lscpu | grep -i \"cache\""
   ]
  },
  {
   "cell_type": "markdown",
   "metadata": {},
   "source": [
    "We have 2 CPUs available with 32 KiB of L1 cache (sometimes also known as level 1 cache).\n",
    "\n",
    "The L1 cache is a type of CPU cache that is closest to the processor cores. It is typically split into two distinct caches: L1i (L1 instruction cache) and L1d (L1 data cache). \n",
    "\n",
    "Purpose:\n",
    "\n",
    "- L1i Cache (Instruction Cache):\n",
    "    - Stores instructions that the CPU needs to execute.\n",
    "    - Optimizes the fetching of instructions from memory to the CPU.\n",
    "    - Improves the performance of the instruction pipeline by reducing the time it takes to fetch instructions.\n",
    "\n",
    "- L1d Cache (Data Cache):\n",
    "    - Stores data that the CPU needs to process.\n",
    "    - Optimizes the fetching of data from memory to the CPU.\n",
    "    - Enhances the performance of data retrieval operations.The L1 cache, or Level 1 cache, is a type of CPU cache that is closest to the processor cores. It is typically split into two distinct caches: L1i (L1 instruction cache) and L1d (L1 data cache). Here are the differences between them:\n",
    "\n",
    "We also have 512 KiB of L2 and 32 MiB of L3 cache."
   ]
  },
  {
   "cell_type": "markdown",
   "metadata": {},
   "source": [
    "Let look at the cache line size."
   ]
  },
  {
   "cell_type": "code",
   "execution_count": 11,
   "metadata": {
    "vscode": {
     "languageId": "cpp"
    }
   },
   "outputs": [
    {
     "name": "stdout",
     "output_type": "stream",
     "text": [
      "64\n"
     ]
    }
   ],
   "source": [
    "! getconf LEVEL1_DCACHE_LINESIZE"
   ]
  },
  {
   "cell_type": "code",
   "execution_count": 12,
   "metadata": {
    "vscode": {
     "languageId": "cpp"
    }
   },
   "outputs": [
    {
     "name": "stdout",
     "output_type": "stream",
     "text": [
      "64\n"
     ]
    }
   ],
   "source": [
    "! getconf LEVEL1_ICACHE_LINESIZE"
   ]
  },
  {
   "cell_type": "code",
   "execution_count": 13,
   "metadata": {
    "vscode": {
     "languageId": "cpp"
    }
   },
   "outputs": [
    {
     "name": "stdout",
     "output_type": "stream",
     "text": [
      "64\n"
     ]
    }
   ],
   "source": [
    "! getconf LEVEL2_CACHE_LINESIZE"
   ]
  },
  {
   "cell_type": "code",
   "execution_count": 14,
   "metadata": {
    "vscode": {
     "languageId": "cpp"
    }
   },
   "outputs": [
    {
     "name": "stdout",
     "output_type": "stream",
     "text": [
      "64\n"
     ]
    }
   ],
   "source": [
    "! getconf LEVEL3_CACHE_LINESIZE"
   ]
  },
  {
   "cell_type": "markdown",
   "metadata": {},
   "source": [
    "The cache line size is 64 bytes.\n",
    "\n",
    "This means, with a L1 cache size of 32 KiB and a cache line size of 64 bytes we have 500 cache lines.\n",
    "When storing loading data in the L1 cache, we load a whole cache line, so in that case 64 bytes per load."
   ]
  },
  {
   "cell_type": "markdown",
   "metadata": {},
   "source": [
    "# Cpp Basics"
   ]
  },
  {
   "cell_type": "markdown",
   "metadata": {},
   "source": [
    "Get the size of an integer in byte."
   ]
  },
  {
   "cell_type": "code",
   "execution_count": 15,
   "metadata": {
    "vscode": {
     "languageId": "cpp"
    }
   },
   "outputs": [
    {
     "name": "stdout",
     "output_type": "stream",
     "text": [
      "4\n"
     ]
    }
   ],
   "source": [
    "vprint(sizeof(int));"
   ]
  },
  {
   "cell_type": "markdown",
   "metadata": {},
   "source": [
    "This means that we use 4 bytes (**32 bits**) per integer, so $−2^{31}$ to $231^{−1231}−1$ for signed integers."
   ]
  },
  {
   "cell_type": "markdown",
   "metadata": {},
   "source": [
    "## Vectors / Arrays with malloc"
   ]
  },
  {
   "cell_type": "markdown",
   "metadata": {},
   "source": [
    "void* malloc(size_t size);"
   ]
  },
  {
   "cell_type": "markdown",
   "metadata": {},
   "source": [
    "### How malloc Works\n",
    "\n",
    "- Requesting Memory: When malloc is called, it requests a block of memory from the heap (**RAM**) of the specified size.\n",
    "- Allocating Memory: The heap manager in the runtime library tries to find a suitable **contiguous** block of free memory that meets the requested size. If it finds such a block, it marks it as used and returns a **pointer** to the beginning of the block.\n",
    "- Return Value: If successful, malloc returns a void* pointer to the beginning of the allocated memory block. If it fails (e.g., if there is not enough memory available), it returns NULL."
   ]
  },
  {
   "cell_type": "markdown",
   "metadata": {},
   "source": [
    "Lets make an array with 10 integer values.\n",
    "(Note: We have to keep track of the size and / or type of the array to iterate over it.)"
   ]
  },
  {
   "cell_type": "code",
   "execution_count": 16,
   "metadata": {
    "vscode": {
     "languageId": "cpp"
    }
   },
   "outputs": [],
   "source": [
    "int* arr = (int*)malloc(10 * sizeof(int));"
   ]
  },
  {
   "cell_type": "markdown",
   "metadata": {},
   "source": [
    "We allocate 10 * 4 bytes with malloc and cast the void pointer to an integer pointer that points to the first element.\n",
    "This integer pointer must be stored in an integer pointer variable, in that case \"arr\". "
   ]
  },
  {
   "cell_type": "markdown",
   "metadata": {},
   "source": [
    "Lets set the value at positon [0] to 1."
   ]
  },
  {
   "cell_type": "code",
   "execution_count": 17,
   "metadata": {
    "vscode": {
     "languageId": "cpp"
    }
   },
   "outputs": [],
   "source": [
    "arr[0] = 1;"
   ]
  },
  {
   "cell_type": "markdown",
   "metadata": {},
   "source": [
    "And print it."
   ]
  },
  {
   "cell_type": "code",
   "execution_count": 18,
   "metadata": {
    "vscode": {
     "languageId": "cpp"
    }
   },
   "outputs": [
    {
     "name": "stdout",
     "output_type": "stream",
     "text": [
      "1\n"
     ]
    }
   ],
   "source": [
    "vprint(arr[0]);"
   ]
  },
  {
   "cell_type": "markdown",
   "metadata": {},
   "source": [
    "Lets quickly write a function to fill the array with random integer values.\n",
    "(The array must be an integer array.)"
   ]
  },
  {
   "cell_type": "code",
   "execution_count": 19,
   "metadata": {
    "vscode": {
     "languageId": "cpp"
    }
   },
   "outputs": [],
   "source": [
    "void fillRandom(int* arr, size_t size) {\n",
    "\n",
    "    for(int i = 0; i < size; i++){\n",
    "        arr[i] = randInt();\n",
    "    }\n",
    "\n",
    "}"
   ]
  },
  {
   "cell_type": "markdown",
   "metadata": {},
   "source": [
    "And a function that to fill the array with zeros."
   ]
  },
  {
   "cell_type": "code",
   "execution_count": 20,
   "metadata": {
    "vscode": {
     "languageId": "cpp"
    }
   },
   "outputs": [],
   "source": [
    "void fillZeros(int* arr, size_t size) {\n",
    "\n",
    "    for(int i = 0; i < size; i++){\n",
    "        arr[i] = 0;\n",
    "    }\n",
    "\n",
    "}"
   ]
  },
  {
   "cell_type": "markdown",
   "metadata": {},
   "source": [
    "Lets fill the array with values."
   ]
  },
  {
   "cell_type": "code",
   "execution_count": 21,
   "metadata": {
    "vscode": {
     "languageId": "cpp"
    }
   },
   "outputs": [],
   "source": [
    "fillRandom(arr, 10);"
   ]
  },
  {
   "cell_type": "markdown",
   "metadata": {},
   "source": [
    "And print it."
   ]
  },
  {
   "cell_type": "code",
   "execution_count": 22,
   "metadata": {
    "vscode": {
     "languageId": "cpp"
    }
   },
   "outputs": [
    {
     "name": "stdout",
     "output_type": "stream",
     "text": [
      "5 1 4 3 7 8 6 5 9 3 \n"
     ]
    }
   ],
   "source": [
    "aprint(arr, 10);"
   ]
  },
  {
   "cell_type": "markdown",
   "metadata": {},
   "source": [
    "## Matrices"
   ]
  },
  {
   "cell_type": "markdown",
   "metadata": {},
   "source": [
    "We want to create a matrix of size n x m or rows x cols."
   ]
  },
  {
   "cell_type": "code",
   "execution_count": 23,
   "metadata": {
    "vscode": {
     "languageId": "cpp"
    }
   },
   "outputs": [],
   "source": [
    "size_t rows = 4;\n",
    "size_t cols = 4; "
   ]
  },
  {
   "cell_type": "markdown",
   "metadata": {},
   "source": [
    "A matrix is a set of pointers that are pointing to set of values (vecotrs) each.\n",
    "Thats why we need to create a set of integer pointers first. "
   ]
  },
  {
   "cell_type": "code",
   "execution_count": 24,
   "metadata": {
    "vscode": {
     "languageId": "cpp"
    }
   },
   "outputs": [],
   "source": [
    "int** matrix = (int**)malloc(rows * sizeof(int*));"
   ]
  },
  {
   "cell_type": "markdown",
   "metadata": {},
   "source": [
    "Lets fill our now pointers by allocating the space needed."
   ]
  },
  {
   "cell_type": "code",
   "execution_count": 25,
   "metadata": {
    "vscode": {
     "languageId": "cpp"
    }
   },
   "outputs": [],
   "source": [
    "for (int i = 0; i < rows; ++i) {\n",
    "    \n",
    "    matrix[i] = (int*)malloc(cols * sizeof(int));\n",
    "\n",
    "}"
   ]
  },
  {
   "cell_type": "markdown",
   "metadata": {},
   "source": [
    "To fill it, we must create a new function.\n",
    "\n",
    "(Note: We could use the fillRandom function too.)"
   ]
  },
  {
   "cell_type": "code",
   "execution_count": 26,
   "metadata": {
    "vscode": {
     "languageId": "cpp"
    }
   },
   "outputs": [],
   "source": [
    "void fillMatrixRandom(int** matrix, size_t rows, size_t cols){\n",
    "\n",
    "    for(int i = 0; i < rows; i++){\n",
    "        \n",
    "        for(int j = 0; j < cols; j++){\n",
    "            \n",
    "            matrix[i][j] = randInt();\n",
    "\n",
    "        }\n",
    "    \n",
    "    }\n",
    "\n",
    "}"
   ]
  },
  {
   "cell_type": "markdown",
   "metadata": {},
   "source": [
    "And fill our matrix."
   ]
  },
  {
   "cell_type": "code",
   "execution_count": 27,
   "metadata": {
    "vscode": {
     "languageId": "cpp"
    }
   },
   "outputs": [],
   "source": [
    "fillMatrixRandom(matrix, rows, cols);"
   ]
  },
  {
   "cell_type": "markdown",
   "metadata": {},
   "source": [
    "Now we can print it."
   ]
  },
  {
   "cell_type": "code",
   "execution_count": 28,
   "metadata": {
    "vscode": {
     "languageId": "cpp"
    }
   },
   "outputs": [
    {
     "name": "stdout",
     "output_type": "stream",
     "text": [
      "4 7 6 8 \n",
      "6 7 7 5 \n",
      "6 2 2 5 \n",
      "4 3 3 9 \n",
      "\n"
     ]
    }
   ],
   "source": [
    "mprint(matrix, rows, cols);"
   ]
  },
  {
   "cell_type": "markdown",
   "metadata": {},
   "source": [
    "Lets clean everything up and make some functions. "
   ]
  },
  {
   "cell_type": "code",
   "execution_count": 29,
   "metadata": {
    "vscode": {
     "languageId": "cpp"
    }
   },
   "outputs": [],
   "source": [
    "int* createVector(size_t size){\n",
    "    int* v = (int*)malloc(size * sizeof(int));\n",
    "    fillRandom(v, size);\n",
    "    return v;\n",
    "}"
   ]
  },
  {
   "cell_type": "code",
   "execution_count": 30,
   "metadata": {
    "vscode": {
     "languageId": "cpp"
    }
   },
   "outputs": [],
   "source": [
    "int* createZeroVector(size_t size){\n",
    "    int* v = (int*)malloc(size * sizeof(int));\n",
    "    fillZeros(v, size);\n",
    "    return v;\n",
    "}"
   ]
  },
  {
   "cell_type": "code",
   "execution_count": 31,
   "metadata": {
    "vscode": {
     "languageId": "cpp"
    }
   },
   "outputs": [],
   "source": [
    "int** createMatrix(size_t rows, size_t cols){\n",
    "    int** m = (int**)malloc(rows * sizeof(int*));\n",
    "    for (size_t i = 0; i < rows; i++) {\n",
    "        m[i] = createVector(cols);\n",
    "    }\n",
    "\n",
    "    return m;\n",
    "}"
   ]
  },
  {
   "cell_type": "code",
   "execution_count": 32,
   "metadata": {
    "vscode": {
     "languageId": "cpp"
    }
   },
   "outputs": [],
   "source": [
    "int** createZeroMatrix(size_t rows, size_t cols){\n",
    "    int** m = (int**)malloc(rows * sizeof(int*));\n",
    "    for (size_t i = 0; i < rows; i++) {\n",
    "        m[i] = createZeroVector(cols);\n",
    "    }\n",
    "\n",
    "    return m;\n",
    "}"
   ]
  },
  {
   "cell_type": "markdown",
   "metadata": {},
   "source": [
    "And test the functions."
   ]
  },
  {
   "cell_type": "code",
   "execution_count": 33,
   "metadata": {
    "vscode": {
     "languageId": "cpp"
    }
   },
   "outputs": [
    {
     "name": "stdout",
     "output_type": "stream",
     "text": [
      "8 3 7 3 \n",
      "8 6 9 8 \n",
      "9 4 1 7 \n",
      "4 1 1 4 \n",
      "\n",
      "0 0 0 0 \n",
      "0 0 0 0 \n",
      "0 0 0 0 \n",
      "0 0 0 0 \n",
      "\n"
     ]
    }
   ],
   "source": [
    "size_t size = 4;\n",
    "\n",
    "int** m1 = createMatrix(size, size);\n",
    "int** m2 = createZeroMatrix(size, size);\n",
    "\n",
    "mprint(m1, size, size);\n",
    "mprint(m2, size, size);"
   ]
  },
  {
   "cell_type": "markdown",
   "metadata": {},
   "source": [
    "## Transpose"
   ]
  },
  {
   "cell_type": "markdown",
   "metadata": {},
   "source": [
    "Lastly, we write a function to transpose a matrix."
   ]
  },
  {
   "cell_type": "code",
   "execution_count": 34,
   "metadata": {
    "vscode": {
     "languageId": "cpp"
    }
   },
   "outputs": [],
   "source": [
    "int** transpose(int** in, size_t rows, size_t cols){\n",
    "\n",
    "    int** out = createMatrix(cols, rows);\n",
    "\n",
    "    for(size_t row = 0; row < rows; row++){\n",
    "\n",
    "        for(size_t col = 0; col < cols; col++){\n",
    "    \n",
    "            out[col][row] = in[row][col];\n",
    "            \n",
    "        }\n",
    "    }\n",
    "    \n",
    "    return out;\n",
    "\n",
    "}"
   ]
  },
  {
   "cell_type": "markdown",
   "metadata": {},
   "source": [
    "And test the function."
   ]
  },
  {
   "cell_type": "code",
   "execution_count": 35,
   "metadata": {
    "vscode": {
     "languageId": "cpp"
    }
   },
   "outputs": [
    {
     "name": "stdout",
     "output_type": "stream",
     "text": [
      "9 7 8 \n",
      "1 5 3 \n",
      "3 1 3 \n",
      "4 3 5 \n",
      "4 9 8 \n",
      "\n",
      "9 1 3 4 4 \n",
      "7 5 1 3 9 \n",
      "8 3 3 5 8 \n",
      "\n"
     ]
    }
   ],
   "source": [
    "size_t rows = 5;\n",
    "size_t cols = 3;\n",
    "\n",
    "int** in = createMatrix(rows, cols);\n",
    "mprint(in, rows, cols);\n",
    "\n",
    "int** trans = transpose(in, rows, cols);\n",
    "\n",
    "// Note the change from rows / cols to cols / rows !!!\n",
    "mprint(trans, cols, rows);"
   ]
  },
  {
   "cell_type": "markdown",
   "metadata": {},
   "source": [
    "# Matrix Operations"
   ]
  },
  {
   "cell_type": "markdown",
   "metadata": {},
   "source": [
    "Lets look in some ways to perform the dot product."
   ]
  },
  {
   "cell_type": "markdown",
   "metadata": {},
   "source": [
    "For now, we use vectors or matrices of size: $n * 1024$. We define some values first."
   ]
  },
  {
   "cell_type": "code",
   "execution_count": 36,
   "metadata": {
    "vscode": {
     "languageId": "cpp"
    }
   },
   "outputs": [
    {
     "name": "stdout",
     "output_type": "stream",
     "text": [
      "1024 * 1  = 1024 and n * n = 1048576 values per matrix \n",
      "1024 * 4  = 4096 and n * n = 16777216 values per matrix \n",
      "1024 * 8  = 8192 and n * n = 67108864 values per matrix \n",
      "1024 * 16 = 16384 and n * n = 268435456 values per matrix \n",
      "1024 * 32 = 32768 and n * n = 1073741824 values per matrix \n",
      "1024 * 63 = 64512 and n * n = 4161798144 values per matrix \n"
     ]
    }
   ],
   "source": [
    "unsigned int ntest = 4;\n",
    "\n",
    "unsigned int n1 = 1024 * 1;      std::cout << \"1024 * 1  = \" << n1 << \" and n * n = \" << n1 * n1 << \" values per matrix \" << std::endl;\n",
    "unsigned int n4 = 1024 * 4;      std::cout << \"1024 * 4  = \" << n4 << \" and n * n = \" << n4 * n4 << \" values per matrix \" << std::endl;\n",
    "unsigned int n8 = 1024 * 8;      std::cout << \"1024 * 8  = \" << n8 << \" and n * n = \" << n8 * n8 << \" values per matrix \" << std::endl;\n",
    "unsigned int n16 = 1024 * 16;    std::cout << \"1024 * 16 = \" << n16 << \" and n * n = \" << n16 * n16 << \" values per matrix \" << std::endl;\n",
    "unsigned int n32 = 1024 * 32;    std::cout << \"1024 * 32 = \" << n32 << \" and n * n = \" << n32 * n32 << \" values per matrix \" << std::endl;\n",
    "\n",
    "// 1024 * 64 is the maximum size for an unsigned integer and cant be represented. So we use 1024 * 63.\n",
    "unsigned int n63 = 1024 * 63;    std::cout << \"1024 * 63 = \" << n63 << \" and n * n = \" << n63 * n63 << \" values per matrix \" << std::endl;"
   ]
  },
  {
   "cell_type": "markdown",
   "metadata": {},
   "source": [
    "## Serial matrix-vector multiplication"
   ]
  },
  {
   "cell_type": "markdown",
   "metadata": {},
   "source": [
    "First we define the funciton."
   ]
  },
  {
   "cell_type": "code",
   "execution_count": 37,
   "metadata": {
    "vscode": {
     "languageId": "cpp"
    }
   },
   "outputs": [],
   "source": [
    "int* smvp(int** m, int* v, size_t size){\n",
    "    \n",
    "    int* out = createZeroVector(size);\n",
    "\n",
    "    for(int row = 0; row < size; row++){\n",
    "        \n",
    "        for(int col = 0; col < size; col++){\n",
    "        \n",
    "            out[row] += m[row][col] * v[col];\n",
    "        \n",
    "        }\n",
    "    }\n",
    "    \n",
    "    return out;\n",
    "}"
   ]
  },
  {
   "cell_type": "markdown",
   "metadata": {},
   "source": [
    "And test it with the ntest value. Therefore, we define a matrix and a vecotr."
   ]
  },
  {
   "cell_type": "code",
   "execution_count": 38,
   "metadata": {
    "vscode": {
     "languageId": "cpp"
    }
   },
   "outputs": [
    {
     "name": "stdout",
     "output_type": "stream",
     "text": [
      "4 8 4 1 \n",
      "6 4 6 7 \n",
      "7 1 7 4 \n",
      "5 5 9 8 \n",
      "\n",
      "4 5 5 5 \n"
     ]
    }
   ],
   "source": [
    "int n = ntest;\n",
    "\n",
    "int** m = createMatrix(n, n);\n",
    "mprint(m, n, n);\n",
    "\n",
    "int* v = createVector(n);\n",
    "aprint(v, n);"
   ]
  },
  {
   "cell_type": "markdown",
   "metadata": {},
   "source": [
    "Now we run the calculations and use the inbuild notebook time tracking."
   ]
  },
  {
   "cell_type": "code",
   "execution_count": 39,
   "metadata": {
    "vscode": {
     "languageId": "cpp"
    }
   },
   "outputs": [],
   "source": [
    "int* out = smvp(m, v, n);"
   ]
  },
  {
   "cell_type": "markdown",
   "metadata": {},
   "source": [
    "And print it."
   ]
  },
  {
   "cell_type": "code",
   "execution_count": 40,
   "metadata": {
    "vscode": {
     "languageId": "cpp"
    }
   },
   "outputs": [
    {
     "name": "stdout",
     "output_type": "stream",
     "text": [
      "81 109 88 130 \n"
     ]
    }
   ],
   "source": [
    "aprint(out, n);"
   ]
  },
  {
   "cell_type": "markdown",
   "metadata": {},
   "source": [
    "Now we can run the function with diffrent sizes for n."
   ]
  },
  {
   "cell_type": "code",
   "execution_count": 41,
   "metadata": {
    "vscode": {
     "languageId": "cpp"
    }
   },
   "outputs": [],
   "source": [
    "int n = n16;\n",
    "\n",
    "int** m = createMatrix(n, n);\n",
    "int* v = createVector(n);"
   ]
  },
  {
   "cell_type": "code",
   "execution_count": 42,
   "metadata": {
    "vscode": {
     "languageId": "cpp"
    }
   },
   "outputs": [],
   "source": [
    "int* out = smvp(m, v, n);"
   ]
  },
  {
   "cell_type": "markdown",
   "metadata": {},
   "source": [
    "Sometimes we want to mesure the time more precise, so we use a fuction to mesure the time in diffrent units."
   ]
  },
  {
   "cell_type": "code",
   "execution_count": 43,
   "metadata": {
    "vscode": {
     "languageId": "cpp"
    }
   },
   "outputs": [
    {
     "name": "stdout",
     "output_type": "stream",
     "text": [
      "Time taken by function: 615 milliseconds\n"
     ]
    }
   ],
   "source": [
    "timer.start();\n",
    "int* out = smvp(m, v, n);\n",
    "timer.end(); // = timer.end(\"milli\");"
   ]
  },
  {
   "cell_type": "code",
   "execution_count": 44,
   "metadata": {
    "vscode": {
     "languageId": "cpp"
    }
   },
   "outputs": [
    {
     "name": "stdout",
     "output_type": "stream",
     "text": [
      "Time taken by function: 0.666 seconds\n"
     ]
    }
   ],
   "source": [
    "timer.start();\n",
    "int* out = smvp(m, v, n);\n",
    "timer.end(\"sec\");"
   ]
  },
  {
   "cell_type": "code",
   "execution_count": 45,
   "metadata": {
    "vscode": {
     "languageId": "cpp"
    }
   },
   "outputs": [
    {
     "name": "stdout",
     "output_type": "stream",
     "text": [
      "Time taken by function: 665118 microseconds\n"
     ]
    }
   ],
   "source": [
    "timer.start();\n",
    "int* out = smvp(m, v, n);\n",
    "timer.end(\"micro\");"
   ]
  },
  {
   "cell_type": "markdown",
   "metadata": {},
   "source": [
    "## Serial matrix-transposed-vector multiplication"
   ]
  },
  {
   "cell_type": "markdown",
   "metadata": {},
   "source": [
    "We store the matrix in the normal way, but change the calculations to calculate the matrix-vector product if the matrix would be transposed."
   ]
  },
  {
   "cell_type": "markdown",
   "metadata": {},
   "source": [
    "To do this, we change m[row][col] to m[col][row]."
   ]
  },
  {
   "cell_type": "code",
   "execution_count": 46,
   "metadata": {
    "vscode": {
     "languageId": "cpp"
    }
   },
   "outputs": [],
   "source": [
    "int* smtvp(int** m, int* v, size_t size){\n",
    "    \n",
    "    int* out = createZeroVector(size);\n",
    "\n",
    "    for(int row = 0; row < size; row++){\n",
    "        \n",
    "        for(int col = 0; col < size; col++){\n",
    "        \n",
    "            out[row] += m[col][row] * v[col];\n",
    "        \n",
    "        }\n",
    "    }\n",
    "    \n",
    "    return out;\n",
    "}"
   ]
  },
  {
   "cell_type": "code",
   "execution_count": 47,
   "metadata": {
    "vscode": {
     "languageId": "cpp"
    }
   },
   "outputs": [],
   "source": [
    "int n = n16;\n",
    "\n",
    "int** m = createMatrix(n, n);\n",
    "int* v = createVector(n);"
   ]
  },
  {
   "cell_type": "code",
   "execution_count": 48,
   "metadata": {
    "vscode": {
     "languageId": "cpp"
    }
   },
   "outputs": [
    {
     "name": "stdout",
     "output_type": "stream",
     "text": [
      "Time taken by function: 1949 milliseconds\n"
     ]
    }
   ],
   "source": [
    "timer.start();\n",
    "int* out = smtvp(m, v, n);\n",
    "timer.end(); "
   ]
  },
  {
   "cell_type": "markdown",
   "metadata": {},
   "source": [
    "We observe, that the time for the matrix-transposed-vector product is about 3 times the matrix-vector product.\n",
    "The is obvious, because for each calculation we have to load a new cache line, because we want for example allways the first element\n",
    "of each row. Therefore, we have to load each row again and again."
   ]
  },
  {
   "cell_type": "markdown",
   "metadata": {},
   "source": [
    "## GEMM"
   ]
  },
  {
   "cell_type": "markdown",
   "metadata": {},
   "source": [
    "For these calculations we should define some diffrent values for n."
   ]
  },
  {
   "cell_type": "code",
   "execution_count": 62,
   "metadata": {
    "vscode": {
     "languageId": "cpp"
    }
   },
   "outputs": [
    {
     "name": "stdout",
     "output_type": "stream",
     "text": [
      "n = 100 and n * n = 10000 values per matrix \n",
      "n = 1000 and n * n = 1000000 values per matrix \n",
      "n = 10000 and n * n = 100000000 values per matrix \n",
      "n = 100000 and n * n = 1410065408 values per matrix \n"
     ]
    }
   ],
   "source": [
    "unsigned int n100 = 100;      std::cout << \"n = \" << n100 << \" and n * n = \" << n100 * n100 << \" values per matrix \" << std::endl;\n",
    "unsigned int n1000 = 1000;      std::cout << \"n = \" << n1000 << \" and n * n = \" << n1000 * n1000 << \" values per matrix \" << std::endl;\n",
    "unsigned int n10000 = 10000;      std::cout << \"n = \" << n10000 << \" and n * n = \" << n10000 * n10000 << \" values per matrix \" << std::endl;\n",
    "unsigned int n100000 = 100000;      std::cout << \"n = \" << n100000 << \" and n * n = \" << n100000 * n100000 << \" values per matrix \" << std::endl;\n"
   ]
  },
  {
   "cell_type": "code",
   "execution_count": 49,
   "metadata": {
    "vscode": {
     "languageId": "cpp"
    }
   },
   "outputs": [],
   "source": [
    "void rowOrientedGEMM(int** X, int** Y, int** Z, size_t n) {\n",
    "    \n",
    "    for (int i = 0; i < n; ++i) {\n",
    "        \n",
    "        for (int j = 0; j < n; ++j) {\n",
    "            \n",
    "            for (int k = 0; k < n; ++k) {\n",
    "                \n",
    "                Z[i][j] += X[i][k] * Y[k][j];\n",
    "            \n",
    "            }\n",
    "        }\n",
    "    }\n",
    "}"
   ]
  },
  {
   "cell_type": "code",
   "execution_count": 50,
   "metadata": {
    "vscode": {
     "languageId": "cpp"
    }
   },
   "outputs": [],
   "source": [
    "void columnOrientedGEMM(int** X, int** Y, int** Z, size_t n) {\n",
    "    \n",
    "    for (int i = 0; i < n; ++i) {\n",
    "        \n",
    "        for (int j = 0; j < n; ++j) {\n",
    "            \n",
    "            for (int k = 0; k < n; ++k) {\n",
    "                \n",
    "                Z[j][i] += X[j][k] * Y[k][i];\n",
    "            \n",
    "            }\n",
    "        }\n",
    "    }\n",
    "}"
   ]
  },
  {
   "cell_type": "code",
   "execution_count": 72,
   "metadata": {
    "vscode": {
     "languageId": "cpp"
    }
   },
   "outputs": [],
   "source": [
    "// CHATBOT\n",
    "\n",
    "void blockedGEMM(int** X, int** Y, int** Z, int n, int blockSize) {\n",
    "    \n",
    "    for (int i = 0; i < n; i += blockSize) {\n",
    "        for (int j = 0; j < n; j += blockSize) {\n",
    "            for (int k = 0; k < n; k += blockSize) {\n",
    "    \n",
    "                // Process sub-blocks\n",
    "                for (int i1 = i; i1 < std::min(i + blockSize, n); ++i1) {\n",
    "                    for (int j1 = j; j1 < std::min(j + blockSize, n); ++j1) {\n",
    "                        for (int k1 = k; k1 < std::min(k + blockSize, n); ++k1) {\n",
    "                            \n",
    "                            Z[i1][j1] += X[i1][k1] * Y[k1][j1];\n",
    "    \n",
    "                        }\n",
    "                    }\n",
    "                }\n",
    "            }\n",
    "        }\n",
    "    }\n",
    "}"
   ]
  },
  {
   "cell_type": "code",
   "execution_count": 63,
   "metadata": {
    "vscode": {
     "languageId": "cpp"
    }
   },
   "outputs": [],
   "source": [
    "int n = n1000;\n",
    "\n",
    "int** X = createMatrix(n, n);\n",
    "int** Y = createMatrix(n, n);\n",
    "int** Z = createMatrix(n, n);"
   ]
  },
  {
   "cell_type": "code",
   "execution_count": 64,
   "metadata": {
    "vscode": {
     "languageId": "cpp"
    }
   },
   "outputs": [
    {
     "name": "stdout",
     "output_type": "stream",
     "text": [
      "Time taken by function: 3.625 seconds\n"
     ]
    }
   ],
   "source": [
    "timer.start();\n",
    "rowOrientedGEMM(X, Y, Z, n);\n",
    "timer.end(\"sec\");"
   ]
  },
  {
   "cell_type": "code",
   "execution_count": 65,
   "metadata": {
    "vscode": {
     "languageId": "cpp"
    }
   },
   "outputs": [
    {
     "name": "stdout",
     "output_type": "stream",
     "text": [
      "Time taken by function: 3.401 seconds\n"
     ]
    }
   ],
   "source": [
    "timer.start();\n",
    "columnOrientedGEMM(X, Y, Z, n);\n",
    "timer.end(\"sec\");"
   ]
  },
  {
   "cell_type": "code",
   "execution_count": 68,
   "metadata": {
    "vscode": {
     "languageId": "cpp"
    }
   },
   "outputs": [
    {
     "name": "stdout",
     "output_type": "stream",
     "text": [
      "Time taken by function: 6.852 seconds\n"
     ]
    }
   ],
   "source": [
    "int block_size = 4;\n",
    "\n",
    "timer.start();\n",
    "blockedGEMM(X, Y, Z, n, block_size);\n",
    "timer.end(\"sec\");"
   ]
  },
  {
   "cell_type": "markdown",
   "metadata": {},
   "source": [
    "We observe, that the row and column based methodes are about equal.\n",
    "The block based methode takes twice the time, but we tested it only for a block size of 4. "
   ]
  },
  {
   "cell_type": "code",
   "execution_count": 78,
   "metadata": {
    "vscode": {
     "languageId": "cpp"
    }
   },
   "outputs": [
    {
     "name": "stdout",
     "output_type": "stream",
     "text": [
      "Time taken by function: 5.393 seconds\n"
     ]
    }
   ],
   "source": [
    "int block_size = 66;\n",
    "\n",
    "timer.start();\n",
    "blockedGEMM(X, Y, Z, n, block_size);\n",
    "timer.end(\"sec\");"
   ]
  },
  {
   "cell_type": "markdown",
   "metadata": {},
   "source": [
    "If we have a cache line size of 64 bytes and an intger value takes 4 bytes, we should get 16 integers in one cache line.\n",
    "\n",
    "Therefore, we should cut the for example 1000 entries into about 64 blocks. But the effect is not as big as supposed. "
   ]
  },
  {
   "cell_type": "markdown",
   "metadata": {},
   "source": [
    "# Open MP"
   ]
  },
  {
   "cell_type": "markdown",
   "metadata": {},
   "source": [
    "Using OpenMP, we can parallelize our programs. Unfortunately, this cannot be done well in the nodebook, so we run the code inside an external file."
   ]
  },
  {
   "cell_type": "markdown",
   "metadata": {},
   "source": [
    "First we create a header file with our tools and basic functions."
   ]
  },
  {
   "cell_type": "code",
   "execution_count": 79,
   "metadata": {
    "vscode": {
     "languageId": "cpp"
    }
   },
   "outputs": [
    {
     "name": "stdout",
     "output_type": "stream",
     "text": [
      "#ifndef TOOLS_HPP\n",
      "#define TOOLS_HPP\n",
      "\n",
      "#include <iostream>\n",
      "#include <random>\n",
      "#include <sstream>\n",
      "#include <string>\n",
      "#include <chrono>\n",
      "#include <cstddef>\n",
      "#include <iomanip>\n",
      "\n",
      "constexpr unsigned int ntest = 4;\n",
      "constexpr unsigned int n1 = 1024 * 1;     \n",
      "constexpr unsigned int n4 = 1024 * 4;      \n",
      "constexpr unsigned int n8 = 1024 * 8;      \n",
      "constexpr unsigned int n16 = 1024 * 16;    \n",
      "constexpr unsigned int n32 = 1024 * 32;   \n",
      "constexpr unsigned int n63 = 1024 * 63;  \n",
      "constexpr unsigned int n100 = 100;      \n",
      "constexpr unsigned int n1000 = 1000;     \n",
      "constexpr unsigned int n10000 = 10000;     \n",
      "constexpr unsigned int n100000 = 100000;  \n",
      "\n",
      "// Printer class\n",
      "class Printer {\n",
      "public:\n",
      "    // VALUE PRINT\n",
      "    template <typename T>\n",
      "    void value(const T& x);\n",
      "\n",
      "    // ARRAY PRINT\n",
      "    template <typename T>\n",
      "    void array(const T* array, size_t size);\n",
      "\n",
      "    // MATRIX PRINT (ONLY FOR INTEGER VALUES)\n",
      "    void matrix(int** matrix, size_t rows, size_t cols);\n",
      "};\n",
      "\n",
      "// Timer class\n",
      "class Timer {\n",
      "public:\n",
      "    void start();\n",
      "    void end(const std::string& unit = \"milli\");\n",
      "\n",
      "private:\n",
      "    std::chrono::time_point<std::chrono::high_resolution_clock> startTimepoint;\n",
      "};\n",
      "\n",
      "// Structur class\n",
      "class Structur {\n",
      "private:\n",
      "    std::random_device rd;\n",
      "    std::mt19937 gen;\n",
      "    std::uniform_int_distribution<> int_dis;\n",
      "\n",
      "    int randInt();\n",
      "    void fillRandom(int* arr, size_t size);\n",
      "    void fillZeros(int* arr, size_t size);\n",
      "\n",
      "public:\n",
      "    // Constructor\n",
      "    Structur();\n",
      "\n",
      "    int* createVector(size_t size);\n",
      "    int* createZeroVector(size_t size);\n",
      "    int** createMatrix(size_t rows, size_t cols);\n",
      "    int** createZeroMatrix(size_t rows, size_t cols);\n",
      "};\n",
      "\n",
      "#endif // TOOLS_HPP\n"
     ]
    }
   ],
   "source": [
    "! cat src/Tools.hpp"
   ]
  },
  {
   "cell_type": "markdown",
   "metadata": {},
   "source": [
    "And the implementation."
   ]
  },
  {
   "cell_type": "code",
   "execution_count": 80,
   "metadata": {
    "vscode": {
     "languageId": "cpp"
    }
   },
   "outputs": [
    {
     "name": "stdout",
     "output_type": "stream",
     "text": [
      "#include \"Tools.hpp\"\n",
      "\n",
      "void Printer::matrix(int** matrix, size_t rows, size_t cols) {\n",
      "    for (size_t i = 0; i < rows; ++i) {\n",
      "        for (size_t j = 0; j < cols; ++j) {\n",
      "            std::cout << matrix[i][j] << \" \";\n",
      "        }\n",
      "        std::cout << std::endl;\n",
      "    }\n",
      "    std::cout << std::endl;\n",
      "}\n",
      "\n",
      "template <typename T>\n",
      "void Printer::value(const T& x) {\n",
      "    std::cout << x << std::endl;\n",
      "}\n",
      "\n",
      "template <typename T>\n",
      "void Printer::array(const T* array, size_t size) {\n",
      "    for (size_t i = 0; i < size; ++i) {\n",
      "        std::cout << array[i] << \" \";\n",
      "    }\n",
      "    std::cout << std::endl;\n",
      "}\n",
      "\n",
      "// explicit template instantiations\n",
      "template void Printer::value<int>(const int& x);\n",
      "template void Printer::value<double>(const double& x);\n",
      "template void Printer::array<int>(const int* array, size_t size);\n",
      "template void Printer::array<double>(const double* array, size_t size);\n",
      "\n",
      "\n",
      "// TIMER\n",
      "\n",
      "void Timer::start() {\n",
      "    startTimepoint = std::chrono::high_resolution_clock::now();\n",
      "}\n",
      "\n",
      "void Timer::end(const std::string& unit) {\n",
      "    auto endTimepoint = std::chrono::high_resolution_clock::now();\n",
      "\n",
      "    if (unit == \"micro\") {\n",
      "        auto duration = std::chrono::duration_cast<std::chrono::microseconds>(endTimepoint - startTimepoint);\n",
      "        std::cout << \"Time taken by function: \" << duration.count() << \" microseconds\" << std::endl;\n",
      "    } else if (unit == \"milli\") {\n",
      "        auto duration = std::chrono::duration_cast<std::chrono::milliseconds>(endTimepoint - startTimepoint);\n",
      "        std::cout << std::fixed << std::setprecision(3);\n",
      "        std::cout << \"Time taken by function: \" << duration.count() << \" milliseconds\" << std::endl;\n",
      "    } else if (unit == \"sec\") {\n",
      "        auto duration = std::chrono::duration<double>(endTimepoint - startTimepoint);\n",
      "        std::cout << std::fixed << std::setprecision(3);\n",
      "        std::cout << \"Time taken by function: \" << duration.count() << \" seconds\" << std::endl;\n",
      "    } else {\n",
      "        std::cout << \"Invalid time unit. Use 'micro', 'milli', or 'sec'.\" << std::endl;\n",
      "    }\n",
      "}\n",
      "\n",
      "\n",
      "// STRUCTUR\n",
      "\n",
      "Structur::Structur() : gen(rd()), int_dis(1, 9) {}\n",
      "\n",
      "int* Structur::createVector(size_t size) {\n",
      "    int* v = (int*)malloc(size * sizeof(int));\n",
      "    fillRandom(v, size);\n",
      "    return v;\n",
      "}\n",
      "\n",
      "int* Structur::createZeroVector(size_t size) {\n",
      "    int* v = (int*)malloc(size * sizeof(int));\n",
      "    fillZeros(v, size);\n",
      "    return v;\n",
      "}\n",
      "\n",
      "int** Structur::createMatrix(size_t rows, size_t cols) {\n",
      "    int** m = (int**)malloc(rows * sizeof(int*));\n",
      "    for (size_t i = 0; i < rows; i++) {\n",
      "        m[i] = createVector(cols);\n",
      "    }\n",
      "    return m;\n",
      "}\n",
      "\n",
      "int** Structur::createZeroMatrix(size_t rows, size_t cols) {\n",
      "    int** m = (int**)malloc(rows * sizeof(int*));\n",
      "    for (size_t i = 0; i < rows; i++) {\n",
      "        m[i] = createZeroVector(cols);\n",
      "    }\n",
      "    return m;\n",
      "}\n",
      "\n",
      "void Structur::fillRandom(int* arr, size_t size) {\n",
      "\n",
      "    for(size_t i = 0; i < size; i++){\n",
      "        arr[i] = randInt();\n",
      "    }\n",
      "\n",
      "}\n",
      "\n",
      "void Structur::fillZeros(int* arr, size_t size) {\n",
      "\n",
      "    for(size_t i = 0; i < size; i++){\n",
      "        arr[i] = 0;\n",
      "    }\n",
      "\n",
      "}\n",
      "\n",
      "int Structur::randInt(){\n",
      "    return int_dis(gen);\n",
      "}\n"
     ]
    }
   ],
   "source": [
    "! cat src/Tools.cpp"
   ]
  },
  {
   "cell_type": "markdown",
   "metadata": {},
   "source": [
    "Now we build a make file that takes our program that should be compiled as input."
   ]
  },
  {
   "cell_type": "code",
   "execution_count": 81,
   "metadata": {
    "vscode": {
     "languageId": "cpp"
    }
   },
   "outputs": [
    {
     "name": "stdout",
     "output_type": "stream",
     "text": [
      "# Variables\n",
      "CXX = g++\n",
      "CXXFLAGS = -O2 -Wall -fopenmp\n",
      "SRC_DIR = src\n",
      "BIN_DIR = bin\n",
      "TOOLS_SRC = $(SRC_DIR)/Tools.cpp\n",
      "TOOLS_OBJ = $(BIN_DIR)/Tools.o\n",
      "\n",
      "# Create bin directory if it does not exist\n",
      "$(shell mkdir -p $(BIN_DIR))\n",
      "\n",
      "# Targets\n",
      "all: $(BIN_DIR)/$(TARGET)\n",
      "\n",
      "# Rule to compile the main .cpp file and link with Tools.o to create the executable\n",
      "$(BIN_DIR)/$(TARGET): $(BIN_DIR)/$(TARGET).o $(TOOLS_OBJ)\n",
      "\t$(CXX) $(CXXFLAGS) -o $@ $^\n",
      "\n",
      "# Rule to compile main .cpp file into object file\n",
      "$(BIN_DIR)/%.o: $(SRC_DIR)/%.cpp\n",
      "\t$(CXX) $(CXXFLAGS) -c -o $@ $<\n",
      "\n",
      "# Rule to compile Tools.cpp\n",
      "$(TOOLS_OBJ): $(TOOLS_SRC)\n",
      "\t$(CXX) $(CXXFLAGS) -c -o $@ $<\n",
      "\n",
      "# Rule to clean build artifacts\n",
      "clean:\n",
      "\trm -rf $(BIN_DIR)/*\n",
      "\n",
      ".PHONY: all clean\n"
     ]
    }
   ],
   "source": [
    "! cat Makefile"
   ]
  },
  {
   "cell_type": "markdown",
   "metadata": {},
   "source": [
    "Lastly, a litte helper script to compile and run the targeted code. "
   ]
  },
  {
   "cell_type": "code",
   "execution_count": 99,
   "metadata": {
    "vscode": {
     "languageId": "cpp"
    }
   },
   "outputs": [
    {
     "name": "stdout",
     "output_type": "stream",
     "text": [
      "Running make...\n",
      "g++ -O2 -Wall -fopenmp -c -o bin/OpenMP_AXPY.o src/OpenMP_AXPY.cpp\n",
      "g++ -O2 -Wall -fopenmp -o bin/OpenMP_AXPY bin/OpenMP_AXPY.o bin/Tools.o\n",
      "Running ./bin/OpenMP_AXPY...\n",
      "Time taken by function: 0.000 seconds\n",
      "Time taken by function: 0.000 seconds\n"
     ]
    }
   ],
   "source": [
    "! bash run.sh OpenMP_AXPY"
   ]
  },
  {
   "cell_type": "markdown",
   "metadata": {},
   "source": [
    "The code for OpenMP_AXPY is:"
   ]
  },
  {
   "cell_type": "code",
   "execution_count": 87,
   "metadata": {
    "vscode": {
     "languageId": "cpp"
    }
   },
   "outputs": [
    {
     "name": "stdout",
     "output_type": "stream",
     "text": [
      "#include \"Tools.hpp\"\n",
      "\n",
      "#include <omp.h>\n",
      "\n",
      "void saxmpy(int a, int* x, int* y, size_t size){\n",
      "\n",
      "    for(size_t i = 0; i < size; i++){\n",
      "\n",
      "        y[i] += a * x[i];\n",
      "\n",
      "    }\n",
      "\n",
      "}\n",
      "\n",
      "void paxmpy(int a, int* x, int* y, size_t size, int threads) {\n",
      "\n",
      "    omp_set_num_threads(threads);\n",
      "\n",
      "    #pragma omp parallel\n",
      "    {\n",
      "        #pragma omp for\n",
      "        for (size_t i = 0; i < size; i++) {\n",
      "            y[i] += a * x[i];\n",
      "        }\n",
      "    }\n",
      "}\n",
      "\n",
      "int main(){\n",
      "    \n",
      "    Timer time;\n",
      "    Structur structur;\n",
      "    // Printer printer;\n",
      "\n",
      "\n",
      "    int* x = structur.createVector(n1000);\n",
      "    int* y = structur.createVector(n1000);\n",
      "\n",
      "    int a = 6;\n",
      "    int threads = 2;\n",
      "\n",
      "    time.start();\n",
      "    saxmpy(a, x, y, n1000);\n",
      "    time.end(\"sec\");\n",
      "\n",
      "    time.start();\n",
      "    paxmpy(a, x, y, n1000, threads);\n",
      "    time.end(\"sec\");\n",
      "\n",
      "\n",
      "}\n",
      "\n"
     ]
    }
   ],
   "source": [
    "! cat src/OpenMP_AXPY.cpp"
   ]
  },
  {
   "cell_type": "code",
   "execution_count": null,
   "metadata": {
    "vscode": {
     "languageId": "cpp"
    }
   },
   "outputs": [],
   "source": []
  },
  {
   "cell_type": "code",
   "execution_count": null,
   "metadata": {
    "vscode": {
     "languageId": "cpp"
    }
   },
   "outputs": [],
   "source": []
  },
  {
   "cell_type": "code",
   "execution_count": null,
   "metadata": {
    "vscode": {
     "languageId": "cpp"
    }
   },
   "outputs": [],
   "source": []
  }
 ],
 "metadata": {
  "kernelspec": {
   "display_name": "C++17",
   "language": "C++17",
   "name": "xcpp17"
  },
  "language_info": {
   "codemirror_mode": "text/x-c++src",
   "file_extension": ".cpp",
   "mimetype": "text/x-c++src",
   "name": "c++",
   "version": "17"
  }
 },
 "nbformat": 4,
 "nbformat_minor": 2
}
